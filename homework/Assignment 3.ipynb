{
 "cells": [
  {
   "cell_type": "markdown",
   "metadata": {},
   "source": [
    "# Assignment 3\n",
    "\n",
    "*(Due Saturday, October 5, 2019 at noon.)*"
   ]
  },
  {
   "cell_type": "code",
   "execution_count": 4,
   "metadata": {},
   "outputs": [],
   "source": [
    "xml = \"\"\"\n",
    "<data>\n",
    "    <citation><author> T. Fahringer, R. Blasko, and H. Zima. </author> <title> Automatic performance prediction to support parallelization of Fortran programs for massively parallel systems. </title> <booktitle> In Proceedings of the 1992 ACM International Conference on Supercomputing, </booktitle> <location> Washington, DC, </location> <date> July 1992. </date></citation>\n",
    "    <citation><author> A. D. Kallis and D. Klappholz, </author> <title> ``Reaching definitions analysis on code containing array references,'' </title> <booktitle> Conf. Rec. of the 4th Workshop on Languages and Compilers for Parallel Computing, </booktitle> <date> Aug. 1991. </date></citation>\n",
    "    <citation><author> R. Fletcher. </author> <title> Practical Methods of Optimization. </title> <publisher> John Wiley &amp; Sons, </publisher> <date> 1987. </date></citation>\n",
    "    <citation><author> Clark, K. L., </author> <title> Negation as Failure, </title> <editor> in: H. Gallaire and J. Minker (eds.), </editor> <booktitle> Logic and Data Bases, </booktitle> <publisher> Plenum Press, </publisher> <location> New York, </location> <date> 1978. </date></citation>\n",
    "    <citation><author> Gent, I. P., &amp; Walsh, T. </author> <date> (1994a). </date> <title> Easy problems are sometimes hard. </title> <journal> Artificial Intelligence, </journal> <volume> 70, </volume> <pages> 335-345. </pages></citation>\n",
    "</data>\n",
    "\"\"\""
   ]
  },
  {
   "cell_type": "markdown",
   "metadata": {},
   "source": [
    "### Task\n",
    "\n",
    "Copy your `Citation` class here from your class notes, then:\n",
    "\n",
    "1. Write a function that takes the XML above and create a list of `Citation` objects containing the data from the XML. \n",
    "2. Run the function, loop over the `Citation`s, and prints the output of each one's `complete()` method."
   ]
  },
  {
   "cell_type": "code",
   "execution_count": 9,
   "metadata": {},
   "outputs": [
    {
     "name": "stdout",
     "output_type": "stream",
     "text": [
      "[<__main__.Citation object at 0x0000001623472940>, <__main__.Citation object at 0x0000001624133080>, <__main__.Citation object at 0x0000001623505C18>, <__main__.Citation object at 0x0000001623505C88>, <__main__.Citation object at 0x0000001623505CC0>]\n",
      " T. Fahringer, R. Blasko, and H. Zima.  Automatic performance prediction to support parallelization of Fortran programs for massively parallel systems.  In Proceedings of the 1992 ACM International Conference on Supercomputing,  July 1992. \n",
      " A. D. Kallis and D. Klappholz,  ``Reaching definitions analysis on code containing array references,''  Conf. Rec. of the 4th Workshop on Languages and Compilers for Parallel Computing,  Aug. 1991. \n",
      " R. Fletcher.  Practical Methods of Optimization.  1987. \n",
      " Clark, K. L.,  Negation as Failure,  Logic and Data Bases,  1978. \n",
      " Gent, I. P., & Walsh, T.  Easy problems are sometimes hard.  Artificial Intelligence,  70,  (1994a). \n"
     ]
    }
   ],
   "source": [
    "#import etree\n",
    "import xml.etree.ElementTree as ET\n",
    "\n",
    "#load our string as XML and name it\n",
    "base = ET.fromstring(xml)\n",
    "\n",
    "####copied from Class 3 notes\n",
    "##citation function\n",
    "class Citation:\n",
    "    def __init__(self, details):\n",
    "        self.author = details['author']\n",
    "        self.title = details['title']\n",
    "        \n",
    "        #check to see if there first\n",
    "        if 'journal' in details:\n",
    "            self.journal = details['journal']\n",
    "        else:\n",
    "            self.journal = None\n",
    "            \n",
    "        if 'volume' in details:\n",
    "            self.volume = details['volume']\n",
    "        else:\n",
    "            self.volume = None\n",
    "        \n",
    "        self.number =  details['number']\n",
    "        self.book_title =  details['book_title']\n",
    "        self.date =  details['date']\n",
    "        \n",
    "    def names(self):\n",
    "        return self.author.split(',')\n",
    "    \n",
    "    def complete(self):\n",
    "        output = self.author + self.title\n",
    "        if self.journal: \n",
    "            output = output + self.journal\n",
    "        if self.volume:\n",
    "            output += self.volume\n",
    "        if self.number:\n",
    "            output += self.number\n",
    "        if self.book_title:\n",
    "            output += self.book_title\n",
    "        if self.date:\n",
    "            output += self.date\n",
    "        print(output)\n",
    "\n",
    "#loop over each citation from the XML file and print the outputs\n",
    "cites = []\n",
    "for c in base:\n",
    "    citation = {\n",
    "        'author': c.find('author').text,\n",
    "        'title' : c.find('title').text,\n",
    "    }\n",
    "    \n",
    "    if c.find('journal') != None: \n",
    "        citation['journal'] = c.find('journal').text\n",
    "    else:\n",
    "        citation['journal'] = None\n",
    "    \n",
    "    if c.find('volume') != None:\n",
    "        citation['volume'] = c.find('volume').text\n",
    "    else:\n",
    "        citation['volume'] = None\n",
    "    \n",
    "    if c.find('number') != None:\n",
    "        citation['number'] = c.find('number').text\n",
    "    else:\n",
    "        citation['number'] = None\n",
    "    \n",
    "    if c.find('booktitle') != None:\n",
    "        citation['book_title'] = c.find('booktitle').text\n",
    "    else:\n",
    "        citation['book_title'] = None\n",
    "    \n",
    "    if c.find('date') != None:\n",
    "        citation['date'] = c.find('date').text\n",
    "    else:\n",
    "        citation['date'] = None\n",
    "    \n",
    "    cites.append(Citation(citation))\n",
    "\n",
    "print(cites)\n",
    "for c in cites:\n",
    "    c.complete()"
   ]
  },
  {
   "cell_type": "markdown",
   "metadata": {},
   "source": [
    "#### Submitting\n",
    "\n",
    "In the Terminal (Mac) or Git Bash (Windows):\n",
    "\n",
    "`git commit -a -m 'Assignment 3 completed'`  \n",
    "`git push`"
   ]
  },
  {
   "cell_type": "markdown",
   "metadata": {},
   "source": [
    "### Reading for next week\n",
    "\n",
    "Read these sections on learnpython.org...  \n",
    "1. [List Comprehensions](https://www.learnpython.org/en/List_Comprehensions)\n",
    "2. [Multiple Function Arguments](https://www.learnpython.org/en/Multiple_Function_Arguments)\n",
    "\n",
    "Or these sections of The Python Tutorial.\n",
    "1. [5.1.3 and 5.1.4](https://docs.python.org/3/tutorial/datastructures.html#list-comprehensions)\n",
    "1. [4.7](https://docs.python.org/3/tutorial/controlflow.html#more-on-defining-functions)"
   ]
  }
 ],
 "metadata": {
  "kernelspec": {
   "display_name": "Python 3",
   "language": "python",
   "name": "python3"
  },
  "language_info": {
   "codemirror_mode": {
    "name": "ipython",
    "version": 3
   },
   "file_extension": ".py",
   "mimetype": "text/x-python",
   "name": "python",
   "nbconvert_exporter": "python",
   "pygments_lexer": "ipython3",
   "version": "3.7.3"
  }
 },
 "nbformat": 4,
 "nbformat_minor": 2
}
