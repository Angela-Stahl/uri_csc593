{
 "cells": [
  {
   "cell_type": "markdown",
   "metadata": {},
   "source": [
    "# Assignment 5\n",
    "\n",
    "*(Due Saturday, October 19, 2019 at noon.)*"
   ]
  },
  {
   "cell_type": "markdown",
   "metadata": {},
   "source": [
    "1) Describe steps needed to clean your dataset. Are there badly-formatted or missing values that will need to be handled? Are you working with multiple files that need to be merged? Do you need to create any new derived fields? Describe the steps you expect to take to clean your data and prepare it for analysis."
   ]
  },
  {
   "cell_type": "markdown",
   "metadata": {},
   "source": [
    "For my dataset, there are several blocks or even columns that have missing data (sometimes left as blank and sometimes listed as NaN). In addition, I will be pulling data fom multiple files (some excel and some csv) that will need to be merged to make comparisons. However, I am hoping to look at changes over time and not all of the data starts at the same time/ has the same dates. I am hoping to be able to match corresponding dates or maybe corresponding weeks between files (weeks would need to be derived from the date column). Also, I am working with count data and may want to combine months to make data manipulation easier. In addition, the dataset I chose to use is very large; it contains all the species counted during a tow for each week dating back to 1999. However, I am not interested in looking at all of these species and would only like to pull a few out of the list. \n",
    "Also, I was given an updated dataset that I uploaded under my Dataset folder."
   ]
  },
  {
   "cell_type": "markdown",
   "metadata": {},
   "source": [
    "2) Make a list of the fields in your data, including their names and types. If your input file is in a fixed-width format, also \n",
    "give the columns where each field appears in the data. There should be a \"codebook\" provided with your data that provides these details."
   ]
  },
  {
   "cell_type": "markdown",
   "metadata": {},
   "source": [
    "Fields I am interested in from dataset 1: Date(string), surface chla (int)\n",
    "From dataset 2: Date(string), total abundance(int), select species(int)\n",
    "From dataset 3: Date(int), surface nitrogen levels split up between several columns(int)\n",
    "From dataset 4: Date(string), surace temperature (int)"
   ]
  },
  {
   "cell_type": "markdown",
   "metadata": {},
   "source": []
  },
  {
   "cell_type": "markdown",
   "metadata": {},
   "source": [
    "3) List at least 3 questions you hope to be able to answer by analyzing your data."
   ]
  },
  {
   "cell_type": "markdown",
   "metadata": {},
   "source": [
    "Have environmental factors (temperature and nutrients) been changing over time in the Bay?\n",
    "Have phytoplankton abundance been changing over time in the Bay?\n",
    "Have HABs species been increasing over the past 2 decades?"
   ]
  },
  {
   "cell_type": "markdown",
   "metadata": {},
   "source": [
    "**Finally,** run the next two blocks."
   ]
  },
  {
   "cell_type": "code",
   "execution_count": 1,
   "metadata": {},
   "outputs": [
    {
     "data": {
      "text/plain": [
       "'1.2.0'"
      ]
     },
     "execution_count": 1,
     "metadata": {},
     "output_type": "execute_result"
    }
   ],
   "source": [
    "import xlrd\n",
    "xlrd.__version__"
   ]
  },
  {
   "cell_type": "code",
   "execution_count": 2,
   "metadata": {},
   "outputs": [
    {
     "data": {
      "text/plain": [
       "'2.6.2'"
      ]
     },
     "execution_count": 2,
     "metadata": {},
     "output_type": "execute_result"
    }
   ],
   "source": [
    "import openpyxl\n",
    "openpyxl.__version__"
   ]
  },
  {
   "cell_type": "code",
   "execution_count": null,
   "metadata": {},
   "outputs": [],
   "source": []
  },
  {
   "cell_type": "markdown",
   "metadata": {},
   "source": [
    "#### Submitting\n",
    "\n",
    "In the Terminal (Mac) or Git Bash (Windows):\n",
    "\n",
    "`git commit -a -m 'Assignment 3 completed'`  \n",
    "`git push`"
   ]
  },
  {
   "cell_type": "markdown",
   "metadata": {},
   "source": [
    "### Reading\n",
    "\n",
    "1. [RegexOne](https://regexone.com/): Lessons 1 through 10, and the [Python Reference](https://regexone.com/references/python)\n",
    "2. [10 Minutes to Pandas](https://pandas.pydata.org/pandas-docs/stable/getting_started/10min.html)\n",
    "3. [_Python for Data Analysis_](https://uri-primo.hosted.exlibrisgroup.com/permalink/f/10nopmq/01URI_ALMA51209454630002396):\n",
    "    * Section 1.3, \"Essential Python Libraries\"\n",
    "    * Chapter 5, \"Getting Started with `pandas`\"\n",
    "    * Sections 6.1, \"Reading and Writing Data in Text Format\" and 6.2, \"Binary Data Formats\""
   ]
  }
 ],
 "metadata": {
  "kernelspec": {
   "display_name": "Python 3",
   "language": "python",
   "name": "python3"
  },
  "language_info": {
   "codemirror_mode": {
    "name": "ipython",
    "version": 3
   },
   "file_extension": ".py",
   "mimetype": "text/x-python",
   "name": "python",
   "nbconvert_exporter": "python",
   "pygments_lexer": "ipython3",
   "version": "3.7.3"
  }
 },
 "nbformat": 4,
 "nbformat_minor": 2
}
